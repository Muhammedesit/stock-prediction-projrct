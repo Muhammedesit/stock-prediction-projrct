{
  "nbformat": 4,
  "nbformat_minor": 0,
  "metadata": {
    "colab": {
      "provenance": []
    },
    "kernelspec": {
      "name": "python3",
      "display_name": "Python 3"
    },
    "language_info": {
      "name": "python"
    }
  },
  "cells": [
    {
      "cell_type": "code",
      "execution_count": null,
      "metadata": {
        "colab": {
          "base_uri": "https://localhost:8080/"
        },
        "id": "6oFoi6uuasZH",
        "outputId": "1318c99f-9191-4639-f6e0-bfd914366eeb"
      },
      "outputs": [
        {
          "output_type": "stream",
          "name": "stdout",
          "text": [
            "Requirement already satisfied: transformers in /usr/local/lib/python3.10/dist-packages (4.38.2)\n",
            "Requirement already satisfied: openpyxl in /usr/local/lib/python3.10/dist-packages (3.1.2)\n",
            "Requirement already satisfied: requests in /usr/local/lib/python3.10/dist-packages (2.31.0)\n",
            "Requirement already satisfied: filelock in /usr/local/lib/python3.10/dist-packages (from transformers) (3.13.3)\n",
            "Requirement already satisfied: huggingface-hub<1.0,>=0.19.3 in /usr/local/lib/python3.10/dist-packages (from transformers) (0.20.3)\n",
            "Requirement already satisfied: numpy>=1.17 in /usr/local/lib/python3.10/dist-packages (from transformers) (1.25.2)\n",
            "Requirement already satisfied: packaging>=20.0 in /usr/local/lib/python3.10/dist-packages (from transformers) (24.0)\n",
            "Requirement already satisfied: pyyaml>=5.1 in /usr/local/lib/python3.10/dist-packages (from transformers) (6.0.1)\n",
            "Requirement already satisfied: regex!=2019.12.17 in /usr/local/lib/python3.10/dist-packages (from transformers) (2023.12.25)\n",
            "Requirement already satisfied: tokenizers<0.19,>=0.14 in /usr/local/lib/python3.10/dist-packages (from transformers) (0.15.2)\n",
            "Requirement already satisfied: safetensors>=0.4.1 in /usr/local/lib/python3.10/dist-packages (from transformers) (0.4.2)\n",
            "Requirement already satisfied: tqdm>=4.27 in /usr/local/lib/python3.10/dist-packages (from transformers) (4.66.2)\n",
            "Requirement already satisfied: et-xmlfile in /usr/local/lib/python3.10/dist-packages (from openpyxl) (1.1.0)\n",
            "Requirement already satisfied: charset-normalizer<4,>=2 in /usr/local/lib/python3.10/dist-packages (from requests) (3.3.2)\n",
            "Requirement already satisfied: idna<4,>=2.5 in /usr/local/lib/python3.10/dist-packages (from requests) (3.6)\n",
            "Requirement already satisfied: urllib3<3,>=1.21.1 in /usr/local/lib/python3.10/dist-packages (from requests) (2.0.7)\n",
            "Requirement already satisfied: certifi>=2017.4.17 in /usr/local/lib/python3.10/dist-packages (from requests) (2024.2.2)\n",
            "Requirement already satisfied: fsspec>=2023.5.0 in /usr/local/lib/python3.10/dist-packages (from huggingface-hub<1.0,>=0.19.3->transformers) (2023.6.0)\n",
            "Requirement already satisfied: typing-extensions>=3.7.4.3 in /usr/local/lib/python3.10/dist-packages (from huggingface-hub<1.0,>=0.19.3->transformers) (4.10.0)\n"
          ]
        }
      ],
      "source": [
        "!pip install transformers openpyxl requests\n"
      ]
    },
    {
      "cell_type": "code",
      "source": [
        "import requests\n",
        "import openpyxl\n",
        "from transformers import pipeline\n",
        "from google.colab import files\n",
        "from datetime import datetime\n",
        "\n",
        "# Set up the sentiment analysis pipeline\n",
        "sentiment_pipeline = pipeline(\"text-classification\", model=\"mrm8488/distilroberta-finetuned-financial-news-sentiment-analysis\")\n",
        "\n",
        "# Set up the endpoint and parameters for the Twitter API request\n",
        "url = \"https://twitter154.p.rapidapi.com/hashtag/hashtag\"\n",
        "querystring = {\"hashtag\": \"#tesla\", \"limit\": \"20\", \"section\": \"top\"}\n",
        "headers = {\n",
        "    \"X-RapidAPI-Key\": \"**\",\n",
        "    \"X-RapidAPI-Host\": \"twitter154.p.rapidapi.com\"\n",
        "}\n",
        "\n",
        "# Make the API request\n",
        "response = requests.get(url, headers=headers, params=querystring)\n",
        "\n",
        "# Set the encoding to 'utf-8'\n",
        "response.encoding = 'utf-8'\n",
        "\n",
        "# Check if the request was successful\n",
        "if response.status_code == 200:\n",
        "    tweets_data = response.json()\n",
        "\n",
        "    # Create a new Excel workbook\n",
        "    wb = openpyxl.Workbook()\n",
        "    ws = wb.active\n",
        "    ws.title = 'Tesla Hashtag Tweets'\n",
        "\n",
        "    # Write the header row\n",
        "    headers = [\n",
        "        'Tweet ID', 'Date', 'Tweet', 'Language', 'Retweet Count', 'Views',\n",
        "        'Follower Count', 'Is Verified', 'Is Blue Verified', 'Sentiment Label', 'Sentiment Score'\n",
        "    ]\n",
        "    ws.append(headers)\n",
        "\n",
        "    # Loop through each tweet in the response\n",
        "    for tweet in tweets_data.get('results', []):\n",
        "        try:\n",
        "            # Extract data from the tweet and user object\n",
        "            tweet_id = tweet.get('tweet_id', 'N/A')\n",
        "            tweet_date = tweet.get('creation_date', 'N/A')\n",
        "            tweet_text = tweet.get('text', 'N/A')\n",
        "\n",
        "            # Perform sentiment analysis\n",
        "            sentiment_result = sentiment_pipeline(tweet_text)\n",
        "            sentiment_label = sentiment_result[0]['label']\n",
        "            sentiment_score = sentiment_result[0]['score']\n",
        "\n",
        "            # Continue extracting other data\n",
        "            language = tweet.get('language', 'N/A')\n",
        "            retweet_count = tweet.get('retweet_count', 'N/A')\n",
        "            views = tweet.get('views', 'N/A')\n",
        "            user = tweet.get('user', {})\n",
        "            follower_count = user.get('follower_count', 'N/A')\n",
        "            is_verified = user.get('is_verified', 'N/A')\n",
        "            is_blue_verified = user.get('is_blue_verified', 'N/A')\n",
        "\n",
        "            # Write the data to the Excel file\n",
        "            ws.append([\n",
        "                tweet_id,\n",
        "                tweet_date,\n",
        "                tweet_text,\n",
        "                language,\n",
        "                retweet_count,\n",
        "                views,\n",
        "                follower_count,\n",
        "                is_verified,\n",
        "                is_blue_verified,\n",
        "                sentiment_label,\n",
        "                sentiment_score\n",
        "            ])\n",
        "        except Exception as e:\n",
        "            print(f\"An error occurred while processing a tweet: {e}\")\n",
        "\n",
        "    # Define the Excel filename with current datetime\n",
        "    xlsx_filename = f'tesla_hashtag_tweets_sentiment_{datetime.now().strftime(\"%Y%m%d_%H%M%S\")}.xlsx'\n",
        "\n",
        "    # Save the Excel workbook\n",
        "    wb.save(xlsx_filename)\n",
        "\n",
        "    print(f\"Tweets and sentiment analysis have been saved to {xlsx_filename}\")\n",
        "else:\n",
        "    print(\"Failed to fetch tweets:\", response.status_code)\n",
        "    files.download(xlsx_filename)"
      ],
      "metadata": {
        "colab": {
          "base_uri": "https://localhost:8080/"
        },
        "id": "3lZimvTEbT5a",
        "outputId": "ef316c97-cdef-4b8d-d42a-427ff2e687a6"
      },
      "execution_count": null,
      "outputs": [
        {
          "output_type": "stream",
          "name": "stdout",
          "text": [
            "Tweets and sentiment analysis have been saved to tesla_hashtag_tweets_sentiment_20240328_094359.xlsx\n"
          ]
        }
      ]
    }
  ]
}