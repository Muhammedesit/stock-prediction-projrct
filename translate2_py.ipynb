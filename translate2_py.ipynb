{
  "nbformat": 4,
  "nbformat_minor": 0,
  "metadata": {
    "colab": {
      "provenance": []
    },
    "kernelspec": {
      "name": "python3",
      "display_name": "Python 3"
    },
    "language_info": {
      "name": "python"
    }
  },
  "cells": [
    {
      "cell_type": "code",
      "execution_count": null,
      "metadata": {
        "colab": {
          "base_uri": "https://localhost:8080/"
        },
        "id": "6GuXT_C3adxD",
        "outputId": "2f46cb3b-553c-4a21-85fa-cd1582685e0e"
      },
      "outputs": [
        {
          "output_type": "stream",
          "name": "stdout",
          "text": [
            "\u001b[2K     \u001b[90m━━━━━━━━━━━━━━━━━━━━━━━━━━━━━━━━━━━━━━━━\u001b[0m \u001b[32m7.4/7.4 MB\u001b[0m \u001b[31m31.9 MB/s\u001b[0m eta \u001b[36m0:00:00\u001b[0m\n",
            "\u001b[2K     \u001b[90m━━━━━━━━━━━━━━━━━━━━━━━━━━━━━━━━━━━━━━\u001b[0m \u001b[32m268.8/268.8 kB\u001b[0m \u001b[31m13.8 MB/s\u001b[0m eta \u001b[36m0:00:00\u001b[0m\n",
            "\u001b[2K     \u001b[90m━━━━━━━━━━━━━━━━━━━━━━━━━━━━━━━━━━━━━━━━\u001b[0m \u001b[32m7.8/7.8 MB\u001b[0m \u001b[31m85.6 MB/s\u001b[0m eta \u001b[36m0:00:00\u001b[0m\n",
            "\u001b[2K     \u001b[90m━━━━━━━━━━━━━━━━━━━━━━━━━━━━━━━━━━━━━━━━\u001b[0m \u001b[32m1.3/1.3 MB\u001b[0m \u001b[31m61.7 MB/s\u001b[0m eta \u001b[36m0:00:00\u001b[0m\n",
            "\u001b[2K     \u001b[90m━━━━━━━━━━━━━━━━━━━━━━━━━━━━━━━━━━━━━━━━\u001b[0m \u001b[32m1.3/1.3 MB\u001b[0m \u001b[31m15.5 MB/s\u001b[0m eta \u001b[36m0:00:00\u001b[0m\n",
            "\u001b[?25h"
          ]
        }
      ],
      "source": [
        "!pip install -q transformers\n",
        "!pip install -q sentencepiece\n",
        "!pip install -q openpyxl\n"
      ]
    },
    {
      "cell_type": "code",
      "source": [
        "import openpyxl\n",
        "from transformers import MBart50Tokenizer, MBartForConditionalGeneration\n",
        "\n",
        "def translate_text_mbart(texts, tokenizer, model, source_lang, target_lang):\n",
        "    # Tokenize the input texts\n",
        "    inputs = tokenizer.batch_encode_plus(texts, return_tensors=\"pt\", padding=True, truncation=True, max_length=512)\n",
        "\n",
        "    # Translate the input texts\n",
        "    translated = model.generate(inputs.input_ids, decoder_start_token_id=model.config.pad_token_id, max_length=512)\n",
        "\n",
        "    # Decode the translated texts\n",
        "    translated_texts = tokenizer.batch_decode(translated, skip_special_tokens=True)\n",
        "\n",
        "    return translated_texts\n",
        "\n",
        "# Load the XLSX file\n",
        "file_path = \"dosyatest.xlsx\"\n",
        "workbook = openpyxl.load_workbook(file_path)\n",
        "\n",
        "source_language = \"tr\"\n",
        "target_language = \"en\"\n",
        "\n",
        "# Initialize the model and tokenizer\n",
        "model_name = \"facebook/mbart-large-50-many-to-one-mmt\"\n",
        "tokenizer = MBart50Tokenizer.from_pretrained(model_name)\n",
        "model = MBartForConditionalGeneration.from_pretrained(model_name)\n",
        "\n",
        "# Translate the first column in each sheet\n",
        "translated_texts = []\n",
        "for sheet in workbook:\n",
        "    column_values = [cell.value for cell in sheet['A'] if cell.value is not None]\n",
        "    if not column_values:\n",
        "        continue  # Skip translation if the column is empty\n",
        "    translated_column = translate_text_mbart(column_values, tokenizer, model, source_language, target_language)\n",
        "    translated_texts.extend(translated_column)\n",
        "\n",
        "    # Update the translated text values in the workbook\n",
        "    row_idx = 1\n",
        "    for cell_value in translated_column:\n",
        "        cell = sheet.cell(row=row_idx, column=1)\n",
        "        if cell.coordinate in sheet.merged_cells:\n",
        "            continue  # Skip merged cells\n",
        "        cell.value = f\"{cell_value} (Row {row_idx + 1})\"\n",
        "        row_idx += 1\n",
        "\n",
        "# Save the translated XLSX file to a new filename\n",
        "translated_file_path = \"translated_dosya2.xlsx\"\n",
        "workbook.save(translated_file_path)\n"
      ],
      "metadata": {
        "id": "9S2wfvqEaf6J"
      },
      "execution_count": null,
      "outputs": []
    }
  ]
}