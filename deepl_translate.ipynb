{
  "nbformat": 4,
  "nbformat_minor": 0,
  "metadata": {
    "colab": {
      "provenance": [],
      "toc_visible": true
    },
    "kernelspec": {
      "name": "python3",
      "display_name": "Python 3"
    },
    "language_info": {
      "name": "python"
    }
  },
  "cells": [
    {
      "cell_type": "code",
      "execution_count": null,
      "metadata": {
        "id": "GZ9eBweaBj6x"
      },
      "outputs": [],
      "source": [
        "import openpyxl\n",
        "import requests\n",
        "\n",
        "def translate_text_deepl(text, source_lang, target_lang, auth_key):\n",
        "    url = \"https://api-free.deepl.com/v2/translate\"\n",
        "    headers = {\n",
        "        \"Authorization\": f\"DeepL-Auth-Key {auth_key}\"\n",
        "    }\n",
        "    data = {\n",
        "        \"text\": text,\n",
        "        \"source_lang\": source_lang,\n",
        "        \"target_lang\": target_lang\n",
        "    }\n",
        "\n",
        "    response = requests.post(url, headers=headers, data=data)\n",
        "    if response.ok:\n",
        "        translation = response.json()[\"translations\"][0][\"text\"]\n",
        "        return translation\n",
        "    else:\n",
        "        print(\"Translation failed. Status code:\", response.status_code)\n",
        "        return None\n",
        "\n",
        "def is_valid_auth_key(auth_key):\n",
        "    url = \"https://api-free.deepl.com/v2/usage\"\n",
        "    headers = {\n",
        "        \"Authorization\": f\"DeepL-Auth-Key {auth_key}\"\n",
        "    }\n",
        "\n",
        "    response = requests.get(url, headers=headers)\n",
        "    return response.ok\n",
        "\n",
        "# Replace \"[yourAuthKey]\" with your actual DeepL API authentication key\n",
        "deepl_auth_key = \"[yourAuthKey]\"\n",
        "source_language = \"TR\"\n",
        "target_language = \"EN\"\n",
        "\n",
        "# Load the XLSX file\n",
        "file_path = \"dosya.xlsx\"\n",
        "workbook = openpyxl.load_workbook(file_path)\n",
        "\n",
        "# Check if the DeepL API key is valid\n",
        "if not is_valid_auth_key(deepl_auth_key):\n",
        "    print(\"Invalid DeepL API key. Please check your authentication key.\")\n",
        "    exit()\n",
        "\n",
        "# Translate the sheet names in the workbook\n",
        "for sheet_name in workbook.sheetnames:\n",
        "    translated_sheet_name = translate_text_deepl(sheet_name, source_language, target_language, deepl_auth_key)\n",
        "    if translated_sheet_name:\n",
        "        workbook[sheet_name].title = translated_sheet_name\n",
        "\n",
        "# Translate all text values in the workbook\n",
        "for sheet in workbook:\n",
        "    for row in sheet.iter_rows(values_only=True):\n",
        "        for cell_value in row:\n",
        "            if isinstance(cell_value, str):\n",
        "                translated_text = translate_text_deepl(cell_value, source_language, target_language, deepl_auth_key)\n",
        "                if translated_text:\n",
        "                    cell = sheet.cell(row=row[0].row, column=row[0].column + row.index(cell_value))\n",
        "                    cell.value = translated_text\n",
        "\n",
        "# Save the translated XLSX file to a new filename\n",
        "translated_file_path = \"translated_dosya.xlsx\"\n",
        "workbook.save(translated_file_path)\n"
      ]
    }
  ]
}